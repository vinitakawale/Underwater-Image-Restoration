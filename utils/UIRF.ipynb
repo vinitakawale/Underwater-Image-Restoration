{
  "nbformat": 4,
  "nbformat_minor": 0,
  "metadata": {
    "colab": {
      "provenance": [],
      "authorship_tag": "ABX9TyPhIKhVwldMKOsFIF7ohvuH",
      "include_colab_link": true
    },
    "kernelspec": {
      "name": "python3",
      "display_name": "Python 3"
    },
    "language_info": {
      "name": "python"
    },
    "accelerator": "GPU",
    "gpuClass": "standard"
  },
  "cells": [
    {
      "cell_type": "markdown",
      "metadata": {
        "id": "view-in-github",
        "colab_type": "text"
      },
      "source": [
        "<a href=\"https://colab.research.google.com/github/vinitakawale/Underwater-Image-Restoration/blob/main/UIRF.ipynb\" target=\"_parent\"><img src=\"https://colab.research.google.com/assets/colab-badge.svg\" alt=\"Open In Colab\"/></a>"
      ]
    },
    {
      "cell_type": "code",
      "execution_count": 1,
      "metadata": {
        "colab": {
          "base_uri": "https://localhost:8080/"
        },
        "id": "VRcKSO5iTEu2",
        "outputId": "efe9c82f-1026-4746-a093-10d1b87e45c6"
      },
      "outputs": [
        {
          "output_type": "stream",
          "name": "stdout",
          "text": [
            "Cloning into 'Underwater-Image-Restoration'...\n",
            "remote: Enumerating objects: 55, done.\u001b[K\n",
            "remote: Counting objects: 100% (55/55), done.\u001b[K\n",
            "remote: Compressing objects: 100% (47/47), done.\u001b[K\n",
            "remote: Total 55 (delta 5), reused 46 (delta 3), pack-reused 0\u001b[K\n",
            "Unpacking objects: 100% (55/55), done.\n"
          ]
        }
      ],
      "source": [
        "!git clone https://github.com/vinitakawale/Underwater-Image-Restoration.git"
      ]
    },
    {
      "cell_type": "code",
      "source": [
        "# py libs\n",
        "import os\n",
        "import time\n",
        "import argparse\n",
        "import numpy as np\n",
        "from PIL import Image\n",
        "from glob import glob\n",
        "from ntpath import basename\n",
        "from os.path import join, exists"
      ],
      "metadata": {
        "id": "qX_QdqMUT6wX"
      },
      "execution_count": 2,
      "outputs": []
    },
    {
      "cell_type": "code",
      "source": [
        "# pytorch libs\n",
        "import torch\n",
        "import torch.nn as nn\n",
        "import torch.nn.functional as F\n",
        "from torch.autograd import Variable\n",
        "from torchvision.utils import save_image\n",
        "import torchvision.transforms as transforms"
      ],
      "metadata": {
        "id": "eVwO-q2nUDdV"
      },
      "execution_count": 3,
      "outputs": []
    },
    {
      "cell_type": "code",
      "source": [
        "%cd /content/Underwater-Image-Restoration/"
      ],
      "metadata": {
        "colab": {
          "base_uri": "https://localhost:8080/"
        },
        "id": "4BlQYzzAhYyf",
        "outputId": "5fb8ad79-0b72-476b-cac9-66ce536f3a72"
      },
      "execution_count": 10,
      "outputs": [
        {
          "output_type": "stream",
          "name": "stdout",
          "text": [
            "/content/Underwater-Image-Restoration\n"
          ]
        }
      ]
    },
    {
      "cell_type": "code",
      "source": [
        "## options\n",
        "opt = {\"data_dir\": \"data/test/A/\",\n",
        "      \"sample_dir\":\"data/output/\",\n",
        "      \"model_name\":\"funiegan\",\n",
        "      \"model_path\":\"models/funie_generator.pth\"}"
      ],
      "metadata": {
        "id": "j1aJuQ2CULnr"
      },
      "execution_count": 11,
      "outputs": []
    },
    {
      "cell_type": "code",
      "source": [
        "## checks\n",
        "assert exists(opt[\"model_path\"]), \"model not found\"\n",
        "os.makedirs(opt[\"sample_dir\"], exist_ok=True)\n",
        "is_cuda = torch.cuda.is_available()\n",
        "Tensor = torch.cuda.FloatTensor if is_cuda else torch.FloatTensor "
      ],
      "metadata": {
        "id": "nM2YCXuQUjr-"
      },
      "execution_count": 12,
      "outputs": []
    },
    {
      "cell_type": "code",
      "source": [
        "## model arch\n",
        "if opt[\"model_name\"].lower()=='funiegan':\n",
        "    from nets import funiegan\n",
        "    model = funiegan.GeneratorFunieGAN()\n",
        "else: \n",
        "    # other models\n",
        "    pass"
      ],
      "metadata": {
        "id": "baBaHXv3VUFV"
      },
      "execution_count": 13,
      "outputs": []
    },
    {
      "cell_type": "code",
      "source": [
        "## load weights\n",
        "model.load_state_dict(torch.load(opt[\"model_path\"]))\n",
        "if is_cuda: model.cuda()\n",
        "model.eval()\n",
        "print (\"Loaded model from %s\" % (opt[\"model_path\"]))"
      ],
      "metadata": {
        "colab": {
          "base_uri": "https://localhost:8080/"
        },
        "id": "1uGnIkz7hl6o",
        "outputId": "a113c2bc-fa66-4f9f-8e2c-cf8a5b451d94"
      },
      "execution_count": 14,
      "outputs": [
        {
          "output_type": "stream",
          "name": "stdout",
          "text": [
            "Loaded model from models/funie_generator.pth\n"
          ]
        }
      ]
    },
    {
      "cell_type": "code",
      "source": [
        "# data pipeline\n",
        "img_width, img_height, channels = 256, 256, 3\n",
        "transforms_ = [transforms.Resize((img_height, img_width), Image.BICUBIC),\n",
        "               transforms.ToTensor(),\n",
        "               transforms.Normalize((0.5, 0.5, 0.5), (0.5, 0.5, 0.5)),]\n",
        "transform = transforms.Compose(transforms_)"
      ],
      "metadata": {
        "colab": {
          "base_uri": "https://localhost:8080/"
        },
        "id": "60vNayOrhtwV",
        "outputId": "fb629cbf-947d-4919-a016-d328824b04e7"
      },
      "execution_count": 15,
      "outputs": [
        {
          "output_type": "stream",
          "name": "stderr",
          "text": [
            "/usr/local/lib/python3.8/dist-packages/torchvision/transforms/transforms.py:329: UserWarning: Argument 'interpolation' of type int is deprecated since 0.13 and will be removed in 0.15. Please use InterpolationMode enum.\n",
            "  warnings.warn(\n"
          ]
        }
      ]
    },
    {
      "cell_type": "code",
      "source": [
        "## testing loop\n",
        "times = []\n",
        "test_files = sorted(glob(join(opt[\"data_dir\"], \"*.*\")))\n",
        "for path in test_files:\n",
        "    inp_img = transform(Image.open(path))\n",
        "    inp_img = Variable(inp_img).type(Tensor).unsqueeze(0)\n",
        "    # generate enhanced image\n",
        "    s = time.time()\n",
        "    gen_img = model(inp_img)\n",
        "    times.append(time.time()-s)\n",
        "    # save output\n",
        "    img_sample = torch.cat((inp_img.data, gen_img.data), -1)\n",
        "    save_image(img_sample, join(opt[\"sample_dir\"], basename(path)), normalize=True)\n",
        "    print (\"Tested: %s\" % path)"
      ],
      "metadata": {
        "colab": {
          "base_uri": "https://localhost:8080/"
        },
        "id": "hhFa4dCOh4Dn",
        "outputId": "6719d1fb-b55c-4bae-998f-2de705f8540e"
      },
      "execution_count": 16,
      "outputs": [
        {
          "output_type": "stream",
          "name": "stdout",
          "text": [
            "Tested: data/test/A/1.jpg\n",
            "Tested: data/test/A/10.jpg\n",
            "Tested: data/test/A/11.jpg\n",
            "Tested: data/test/A/12.jpg\n",
            "Tested: data/test/A/13.jpg\n",
            "Tested: data/test/A/14.jpg\n",
            "Tested: data/test/A/15.jpg\n",
            "Tested: data/test/A/16.jpg\n",
            "Tested: data/test/A/17.jpg\n",
            "Tested: data/test/A/18.jpg\n",
            "Tested: data/test/A/19.jpg\n",
            "Tested: data/test/A/2.jpg\n",
            "Tested: data/test/A/20.jpg\n",
            "Tested: data/test/A/21.jpg\n",
            "Tested: data/test/A/22.jpg\n",
            "Tested: data/test/A/23.jpg\n",
            "Tested: data/test/A/3.jpg\n",
            "Tested: data/test/A/4.jpg\n",
            "Tested: data/test/A/5.jpg\n",
            "Tested: data/test/A/6.jpg\n",
            "Tested: data/test/A/7.jpg\n",
            "Tested: data/test/A/8.jpg\n",
            "Tested: data/test/A/9.jpg\n"
          ]
        }
      ]
    }
  ]
}